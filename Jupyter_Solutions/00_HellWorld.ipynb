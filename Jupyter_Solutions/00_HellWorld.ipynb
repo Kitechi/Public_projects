{
 "cells": [
  {
   "cell_type": "code",
   "execution_count": null,
   "id": "06ee2948",
   "metadata": {},
   "outputs": [],
   "source": [
    "Name=\"Salahuddin\"\n",
    "print(\"Hello! \", Name)"
   ]
  },
  {
   "cell_type": "code",
   "execution_count": null,
   "id": "99a6a2ba",
   "metadata": {},
   "outputs": [],
   "source": [
    "#pip install plotly"
   ]
  }
 ],
 "metadata": {
  "kernelspec": {
   "display_name": "Python 3 (ipykernel)",
   "language": "python",
   "name": "python3"
  },
  "language_info": {
   "codemirror_mode": {
    "name": "ipython",
    "version": 3
   },
   "file_extension": ".py",
   "mimetype": "text/x-python",
   "name": "python",
   "nbconvert_exporter": "python",
   "pygments_lexer": "ipython3",
   "version": "3.9.7"
  }
 },
 "nbformat": 4,
 "nbformat_minor": 5
}
